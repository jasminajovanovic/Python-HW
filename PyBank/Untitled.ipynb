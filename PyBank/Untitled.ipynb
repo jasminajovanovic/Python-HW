{
 "cells": [
  {
   "cell_type": "code",
   "execution_count": 1,
   "metadata": {},
   "outputs": [
    {
     "name": "stdout",
     "output_type": "stream",
     "text": [
      "Total months: 86\n",
      "Total: 38382578\n",
      "Average monthly change is: -2315.12\n",
      "Greatest monthly increase is: Feb-2012 (1926159)\n",
      "Smallest monthly increase is:  Sep-2013 (-2196167)\n"
     ]
    }
   ],
   "source": [
    "import os\n",
    "import csv\n",
    "\n",
    "total_profit = 0\n",
    "monthly_records = []\n",
    "monthly_change = 0\n",
    "greatest_profit_increase = [0,\"\"]\n",
    "smallest_profit_increase = [0,\"\"]\n",
    "monthly_change_list = []\n",
    "\n",
    "csvpath = os.path.join('.', 'budget_data.csv')\n",
    "csvoutput = os.path.join('.', 'output_file.csv')\n",
    "\n",
    "with open(csvpath, newline='') as csvfile:\n",
    "    # CSV reader specifies delimiter and variable that holds contents\n",
    "    csvreader = csv.reader(csvfile, delimiter=',')\n",
    "    \n",
    "    # Read the header row first (skip this step if there is now header)\n",
    "    csv_header = next(csvreader)\n",
    "    #print(f\"CSV Header: {csv_header}\")\n",
    "\n",
    "    for row in csvreader:\n",
    "        total_profit += int(row[1])\n",
    "        monthly_records.append(row)\n",
    "    \n",
    "    for i in range(len(monthly_records)):\n",
    "        \n",
    "        # skip the first row, since we don't know what the delta is\n",
    "        if i != 0:\n",
    "            previous_month_total = int(monthly_records[i-1][1])\n",
    "            this_month_total = int(monthly_records[i][1])\n",
    "            monthly_change = this_month_total - previous_month_total \n",
    "            monthly_change_list.append(monthly_change)\n",
    "        \n",
    "        if (greatest_profit_increase[0] < monthly_change):\n",
    "            greatest_profit_increase[0] = monthly_change\n",
    "            greatest_profit_increase[1] = monthly_records[i][0]\n",
    "        if (smallest_profit_increase[0] >= monthly_change):\n",
    "            smallest_profit_increase[0] = monthly_change\n",
    "            smallest_profit_increase[1] = monthly_records[i][0]\n",
    "            \n",
    "    total_months = csvreader.line_num -1\n",
    "\n",
    "# print output to screen\n",
    "print (f\"Total months: {total_months}\")\n",
    "print (f\"Total: {total_profit}\")\n",
    "print (f\"Average monthly change is: {round(sum(monthly_change_list)/len(monthly_change_list),2)}\")\n",
    "print (f\"Greatest monthly increase is: {greatest_profit_increase [1]} ({greatest_profit_increase[0]})\")\n",
    "print (f\"Smallest monthly increase is:  {smallest_profit_increase[1]} ({smallest_profit_increase[0]})\")\n",
    "\n",
    "# write output to file\n",
    "with open(csvoutput, 'w', newline='') as csvfile:\n",
    "        csvwriter = csv.writer(csvfile, delimiter=',')\n",
    "        csvwriter.writerow ([\"Total months\", str(total_months)])\n",
    "        csvwriter.writerow ([\"Total profit\", str(total_profit)])\n",
    "        csvwriter.writerow ([\"Average monthly change\", str(round(sum(monthly_change_list)/len(monthly_change_list),2))])\n",
    "        csvwriter.writerow ([\"Greatest monthly increase\", str(greatest_profit_increase [1] + \" \" + str(greatest_profit_increase[0]))])\n",
    "        csvwriter.writerow ([\"Smallest monthly increase\", str(smallest_profit_increase[1] + \" \" + str(smallest_profit_increase[0]))])\n"
   ]
  },
  {
   "cell_type": "code",
   "execution_count": null,
   "metadata": {},
   "outputs": [],
   "source": []
  }
 ],
 "metadata": {
  "kernelspec": {
   "display_name": "Python 3",
   "language": "python",
   "name": "python3"
  },
  "language_info": {
   "codemirror_mode": {
    "name": "ipython",
    "version": 3
   },
   "file_extension": ".py",
   "mimetype": "text/x-python",
   "name": "python",
   "nbconvert_exporter": "python",
   "pygments_lexer": "ipython3",
   "version": "3.7.1"
  }
 },
 "nbformat": 4,
 "nbformat_minor": 2
}

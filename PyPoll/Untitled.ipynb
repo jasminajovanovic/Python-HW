{
 "cells": [
  {
   "cell_type": "code",
   "execution_count": 1,
   "metadata": {},
   "outputs": [
    {
     "name": "stdout",
     "output_type": "stream",
     "text": [
      "Election Results\n",
      "--------------------------\n",
      "Total votes cast: 3521001\n",
      "--------------------------\n",
      "Khan received 2218231 (63.00%) votes\n",
      "Correy received 704200 (20.00%) votes\n",
      "Li received 492940 (14.00%) votes\n",
      "O'Tooley received 105630 (3.00%) votes\n",
      "--------------------------\n",
      "The winner is: Khan\n"
     ]
    }
   ],
   "source": [
    "import os\n",
    "import csv\n",
    "\n",
    "input_file = os.path.join('.', \"election_data.csv\")\n",
    "output_file = os.path.join('.', \"election_output.txt\")\n",
    "\n",
    "candidates_list = {}\n",
    "maxvotes = 0\n",
    "winnner = \"\"\n",
    "\n",
    "with open (input_file, 'r') as csvfile:\n",
    "    csvreader = csv.DictReader (csvfile, delimiter =',')\n",
    "    for row in csvreader:\n",
    "        candidate = row.get(\"Candidate\")\n",
    "        if candidate not in candidates_list.keys():\n",
    "            candidates_list[candidate] = 1\n",
    "        else:\n",
    "            candidates_list[candidate] += 1\n",
    "\n",
    "total_votes = csvreader.line_num -1\n",
    "\n",
    "\n",
    "for candidate, votes in candidates_list.items():\n",
    "    if votes > maxvotes:\n",
    "        maxvotes = votes\n",
    "        winner = candidate\n",
    "\n",
    "with open (output_file, \"w\", newline = '') as outputfile:\n",
    "    outputfile.write(\"Election results\\n\")\n",
    "    print (\"Election Results\")\n",
    "    outputfile.write(\"--------------------------\\n\")\n",
    "    print (\"--------------------------\")\n",
    "    outputfile.write(f\"Total votes cast: {total_votes} \\n\")\n",
    "    print (f\"Total votes cast: {total_votes}\")\n",
    "    outputfile.write(\"--------------------------\\n\")\n",
    "    print (\"--------------------------\")\n",
    "    for candidate in candidates_list.keys():\n",
    "        votes = candidates_list[candidate]\n",
    "        outputfile.write(f\"{candidate} received {votes} ({votes/total_votes:.2%}) votes \\n\")\n",
    "        print (f\"{candidate} received {votes} ({votes/total_votes:.2%}) votes\")\n",
    "    outputfile.write(\"--------------------------\\n\")\n",
    "    print (\"--------------------------\")\n",
    "    outputfile.write(f\"The winner is: {winner} \\n\")\n",
    "    print (f\"The winner is: {winner}\")\n"
   ]
  },
  {
   "cell_type": "code",
   "execution_count": null,
   "metadata": {},
   "outputs": [],
   "source": []
  }
 ],
 "metadata": {
  "kernelspec": {
   "display_name": "Python 3",
   "language": "python",
   "name": "python3"
  },
  "language_info": {
   "codemirror_mode": {
    "name": "ipython",
    "version": 3
   },
   "file_extension": ".py",
   "mimetype": "text/x-python",
   "name": "python",
   "nbconvert_exporter": "python",
   "pygments_lexer": "ipython3",
   "version": "3.7.1"
  }
 },
 "nbformat": 4,
 "nbformat_minor": 2
}
